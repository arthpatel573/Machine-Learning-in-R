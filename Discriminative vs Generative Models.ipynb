{
 "cells": [
  {
   "cell_type": "markdown",
   "metadata": {},
   "source": [
    "# Discriminative vs Generative Models"
   ]
  },
  {
   "cell_type": "markdown",
   "metadata": {},
   "source": [
    "#### Load Libraries"
   ]
  },
  {
   "cell_type": "code",
   "execution_count": 20,
   "metadata": {},
   "outputs": [],
   "source": [
    "library(mvtnorm) # for multivariate Gaussian data\n",
    "library(ggplot2) # for plots\n",
    "library(reshape2) "
   ]
  },
  {
   "cell_type": "markdown",
   "metadata": {},
   "source": [
    "#### I. Load dataset"
   ]
  },
  {
   "cell_type": "code",
   "execution_count": 21,
   "metadata": {},
   "outputs": [],
   "source": [
    "# read data\n",
    "train_data <- read.csv('Data//1E_train.csv')\n",
    "test_data <- read.csv('Data//1E_test.csv')\n",
    "\n",
    "D <- 2\n",
    "\n",
    "train.len <- dim(train_data)[1]\n",
    "test.len <- dim(test_data)[1]\n",
    "\n",
    "# separate labels and features from data set\n",
    "train.index <- sample(1:train.len,train.len)\n",
    "train.data <- train_data[train.index,  1:D]\n",
    "train.label <- train_data[train.index, 'y']\n",
    "test.data <- test_data[, 1:D]\n",
    "test.label <- test_data[, 'y']"
   ]
  },
  {
   "cell_type": "markdown",
   "metadata": {},
   "source": [
    "### Bayesian Classifier"
   ]
  },
  {
   "cell_type": "code",
   "execution_count": 22,
   "metadata": {},
   "outputs": [],
   "source": [
    "# Bayesian classifier\n",
    "BC.classfier  <- function(train, test) {\n",
    "    \n",
    "    train.len <- nrow(train)\n",
    "    # obtain train and test with labels\n",
    "    train.data <- train[, 1:D]\n",
    "    train.label <- train[, 'y']\n",
    "    \n",
    "    test.data  <- test[,1:D]\n",
    "    test.label  <- test[,\"y\"]\n",
    "    \n",
    "    # Class probabilities:\n",
    "    p0.hat <- sum(train.label==1)/nrow(train.data) # number of samples in class 0 divided by the training data size\n",
    "    p1.hat <- sum(train.label==-1)/nrow(train.data) # number of samples in class 1 divided by the training data size\n",
    "    \n",
    "    # calculate mean\n",
    "    mu0.hat <- colMeans(train.data[train.label==c0,])\n",
    "    mu1.hat <- colMeans(train.data[train.label==c1,])\n",
    "\n",
    "    # calculate class covariance matrices\n",
    "    sigma0.hat <- var(train.data[train.label==c0,])\n",
    "    sigma1.hat <- var(train.data[train.label==c1,])\n",
    "    \n",
    "    # shared covariance matrix\n",
    "    sigma.hat <- p0.hat * sigma0.hat + p1.hat * sigma1.hat \n",
    "    \n",
    "    # calculate posteriors\n",
    "    posterior0 <- p0.hat*dmvnorm(x=train.data, mean=mu0.hat, sigma=sigma.hat)\n",
    "    posterior1 <- p1.hat*dmvnorm(x=train.data, mean=mu1.hat, sigma=sigma.hat)\n",
    "\n",
    "    # calculate predictions\n",
    "    train.predict <- ifelse(posterior0 > posterior1, c0, c1)\n",
    "    test.predict <- ifelse(p0.hat*dmvnorm(x=test.data, mean=mu0.hat, sigma=sigma.hat) > p1.hat*dmvnorm(x=test.data, mean=mu1.hat, sigma=sigma.hat), 1, -1)\n",
    "\n",
    "    # test error\n",
    "    test.error  <- sum(test.label!=test.predict)/nrow(test.data)*100\n",
    "    \n",
    "    return(test.error)\n",
    "}"
   ]
  },
  {
   "cell_type": "markdown",
   "metadata": {},
   "source": [
    "###  Auxiliary Functions"
   ]
  },
  {
   "cell_type": "code",
   "execution_count": 23,
   "metadata": {},
   "outputs": [],
   "source": [
    "# function that predicts class labels\n",
    "predict <- function(w, X, c0, c1){\n",
    "    sig <- sigmoid(w, X)\n",
    "    return(ifelse(sig>0.5, c1,c0))\n",
    "}\n",
    "    \n",
    "# function that calculate a cost function\n",
    "cost <- function (w, X, T, c0){\n",
    "    sig <- sigmoid(w, X)\n",
    "    return(sum(ifelse(T==c0, 1-sig, sig)))\n",
    "}\n",
    "\n",
    "# Sigmoid function \n",
    "sigmoid <- function(w, x){\n",
    "    return(1.0/(1.0+exp(-w%*%t(cbind(1,x)))))    \n",
    "}"
   ]
  },
  {
   "cell_type": "markdown",
   "metadata": {},
   "source": [
    "### Logistic Regression Classifier"
   ]
  },
  {
   "cell_type": "code",
   "execution_count": 24,
   "metadata": {},
   "outputs": [],
   "source": [
    "LR.classifer  <- function(train, test){\n",
    "     # get train and test dataset with labels   \n",
    "    train.data <- train[, 1:D]\n",
    "    train.label <- train[, 'y']\n",
    "    \n",
    "    test.data  <- test[,1:D]\n",
    "    test.label  <- test[,\"y\"]\n",
    "    \n",
    "    # Initializations\n",
    "    train.len <- nrow(train.data) # length of the train data\n",
    "    tau.max <- 10*train.len # maximum number of iterations\n",
    "    eta <- 0.01 # learning rate\n",
    "    epsilon <- 0.01 # a threshold on the cost (to terminate the process)\n",
    "    tau <- 1# iteration counter\n",
    "    terminate <- FALSE \n",
    "\n",
    "    ## Just a few name/type conversion to make the rest of the code easy to follow\n",
    "    X <- as.matrix(train.data)       # rename just for conviniance\n",
    "    T <- ifelse(train.label==c0,0,1) # rename just for conviniance\n",
    "\n",
    "    W <- matrix(,nrow=tau.max, ncol=(ncol(X)+1)) # to be used to store the estimated coefficients\n",
    "    \n",
    "    W[1,] <- runif(ncol(W))# initial weight\n",
    "\n",
    "    Y <- sigmoid(W[1,],X) # project data using the sigmoid function (just for convenient) \n",
    "\n",
    "    costs <- data.frame('tau'=1:tau.max)# to be used to trace the cost in each iteration\n",
    "    costs[1, 'cost'] <- cost(W[1,],X,T, c0)\n",
    "    \n",
    "    # we use SGD to learn the weight vector\n",
    "    while(!terminate){\n",
    "        \n",
    "        # check termination criteria:\n",
    "        terminate <- tau >= tau.max | cost(W[tau,],X,T, c0)<=epsilon\n",
    "        \n",
    "        # shuffle data:\n",
    "        train.index <- sample(1:train.len, train.len, replace = FALSE)\n",
    "        X <- X[train.index,]\n",
    "        T <- T[train.index]\n",
    "        \n",
    "        # for each datapoint:\n",
    "        for (i in 1:train.len){\n",
    "            # check termination criteria:\n",
    "            if (tau >= tau.max | cost(W[tau,],X,T, c0) <=epsilon) {terminate<-TRUE;break}\n",
    "            Y <- sigmoid(W[tau,],X)\n",
    "            \n",
    "            # Update the weights\n",
    "            W[(tau+1),] <- W[tau,] - eta * (Y[i]-T[i]) * cbind(1, t(X[i,]))\n",
    "            \n",
    "            # record the cost:\n",
    "            costs[(tau+1), 'cost'] <- cost(W[tau,],X,T, c0)\n",
    "            \n",
    "            # update the counter:\n",
    "            tau <- tau + 1\n",
    "            \n",
    "            # decrease learning rate:\n",
    "            eta = eta * 0.999\n",
    "        }\n",
    "    }\n",
    "    \n",
    "    # remove the NaN tail of the vector\n",
    "    costs <- costs[1:tau, ] \n",
    "    \n",
    "    # the final result is:\n",
    "    w <- W[tau,]\n",
    "    \n",
    "    # return error rate\n",
    "    test.error  <- sum(predict(w,test.data,c0,c1)!=test.label)/nrow(test.data)*100\n",
    "    \n",
    "    return(test.error)\n",
    "}"
   ]
  },
  {
   "cell_type": "markdown",
   "metadata": {},
   "source": [
    "**Using the first 5 data points from the training set, train a BC and a LR model,increase the size of training set (5 data points at a time), retrain the models and calculate their training and testing errors until all training data points are used.**"
   ]
  },
  {
   "cell_type": "code",
   "execution_count": 25,
   "metadata": {},
   "outputs": [],
   "source": [
    "# class labels\n",
    "c0 <- 1; c1 <- -1 \n",
    "\n",
    "train.len <- nrow(train_data) # size of training dataset \n",
    "sequence <- seq(5,train.len,5) # sequence of train\n",
    "count <- length(sequence)  # number of expts\n",
    "\n",
    "# test error dataframe \n",
    "test.error <- data.frame(matrix(ncol = 0, nrow = 0))\n",
    "\n",
    "train.index <- sample(1:train.len, train.len, replace = FALSE)\n",
    "train <- train_data[train.index,]\n",
    "\n",
    "# Set errors\n",
    "for (size in sequence){\n",
    "    \n",
    "    # calculate errors for both classifier\n",
    "    bc.error  <- BC.classfier(train[1:size,], test_data)\n",
    "    lg.error  <- LR.classifer(train[1:size,], test_data)\n",
    "    \n",
    "    # set testing errors\n",
    "    test.error[size/5, 'Bayesian Classifier'] <- bc.error\n",
    "    test.error[size/5, 'Logistic Regression'] <- lg.error\n",
    "    \n",
    "}"
   ]
  },
  {
   "cell_type": "code",
   "execution_count": 26,
   "metadata": {},
   "outputs": [],
   "source": [
    "# return error\n",
    "test.error <- cbind(data.frame(\"Dataset_Size\"=sequence), test.error)"
   ]
  },
  {
   "cell_type": "code",
   "execution_count": 27,
   "metadata": {},
   "outputs": [
    {
     "data": {
      "text/html": [
       "<table>\n",
       "<thead><tr><th scope=col>Dataset_Size</th><th scope=col>variable</th><th scope=col>value</th></tr></thead>\n",
       "<tbody>\n",
       "\t<tr><td> 5                 </td><td>Bayesian Classifier</td><td>24.8               </td></tr>\n",
       "\t<tr><td>10                 </td><td>Bayesian Classifier</td><td> 1.8               </td></tr>\n",
       "\t<tr><td>15                 </td><td>Bayesian Classifier</td><td> 1.8               </td></tr>\n",
       "\t<tr><td>20                 </td><td>Bayesian Classifier</td><td> 1.6               </td></tr>\n",
       "\t<tr><td>25                 </td><td>Bayesian Classifier</td><td> 2.0               </td></tr>\n",
       "\t<tr><td>30                 </td><td>Bayesian Classifier</td><td> 2.0               </td></tr>\n",
       "</tbody>\n",
       "</table>\n"
      ],
      "text/latex": [
       "\\begin{tabular}{r|lll}\n",
       " Dataset\\_Size & variable & value\\\\\n",
       "\\hline\n",
       "\t  5                  & Bayesian Classifier & 24.8               \\\\\n",
       "\t 10                  & Bayesian Classifier &  1.8               \\\\\n",
       "\t 15                  & Bayesian Classifier &  1.8               \\\\\n",
       "\t 20                  & Bayesian Classifier &  1.6               \\\\\n",
       "\t 25                  & Bayesian Classifier &  2.0               \\\\\n",
       "\t 30                  & Bayesian Classifier &  2.0               \\\\\n",
       "\\end{tabular}\n"
      ],
      "text/markdown": [
       "\n",
       "Dataset_Size | variable | value | \n",
       "|---|---|---|---|---|---|\n",
       "|  5                  | Bayesian Classifier | 24.8                | \n",
       "| 10                  | Bayesian Classifier |  1.8                | \n",
       "| 15                  | Bayesian Classifier |  1.8                | \n",
       "| 20                  | Bayesian Classifier |  1.6                | \n",
       "| 25                  | Bayesian Classifier |  2.0                | \n",
       "| 30                  | Bayesian Classifier |  2.0                | \n",
       "\n",
       "\n"
      ],
      "text/plain": [
       "  Dataset_Size variable            value\n",
       "1  5           Bayesian Classifier 24.8 \n",
       "2 10           Bayesian Classifier  1.8 \n",
       "3 15           Bayesian Classifier  1.8 \n",
       "4 20           Bayesian Classifier  1.6 \n",
       "5 25           Bayesian Classifier  2.0 \n",
       "6 30           Bayesian Classifier  2.0 "
      ]
     },
     "metadata": {},
     "output_type": "display_data"
    }
   ],
   "source": [
    "# unpivot view of errors per batch\n",
    "errors.m  <- melt(test.error, id=\"Dataset_Size\")\n",
    "head(errors.m)"
   ]
  },
  {
   "cell_type": "code",
   "execution_count": 47,
   "metadata": {},
   "outputs": [
    {
     "data": {},
     "metadata": {},
     "output_type": "display_data"
    },
    {
     "data": {
      "image/png": "[encoded data removed]",
      "text/plain": [
       "plot without title"
      ]
     },
     "metadata": {},
     "output_type": "display_data"
    }
   ],
   "source": [
    "# error plots \n",
    "ggplot(errors.m, aes(x=Dataset_Size, y=value, color=variable)) + \n",
    "    geom_line(size=1) + \n",
    "    labs(title = \"Error Rate for BC Classifer and LR Classifer\")"
   ]
  },
  {
   "cell_type": "markdown",
   "metadata": {},
   "source": [
    "a. What does happen for each classifier when the number of training data points is increased?\n",
    "\n",
    "For logistic regression, When the number of training data increases, the testing error decreases and then remains almost constant after the size of training dataset is large enough. While for Bayesian Classifier, the testing error decreases with increase in size of training data, however, after some value of training dataset size, the error increases. Hence, for larger values of training dataset size, we see increased error.\n",
    "\n",
    "b. Which classifier is best suited when the training set is small, and which is best suited when the training set is big?\n",
    "\n",
    "When training dataset is small we can see that bayesian classifier gives less testing error so Bayesian CLassifier is preferred, while for larger size of training data, Logistic regression is preffered.\n",
    " \n",
    "c. Justify your observations in previous questions (III.a & III.b) by providing some speculations and possible reasons.\n",
    "\n",
    "The Bayesian Classifier assumes conditional independence for every feature, so classifier expects features to be independent. For less amount of training data, the condition of independence might hold True with the help of priors which results in less error, however, when more training data is used, it is less probable for model to maintain the condition of independece (As in reality features seems dependent on each other **-0.64 correlation**). Also, Generative models assume the p(x|y) follows some particular distribution which may not be true in reality. This model has more parameters to learn and its complexity increases with increase in data size, hence, we see increase in testing error after some value of N(size).\n",
    "\n",
    "On the other hand, Logistic regression learns the probability of a data point belonging to a particular class, which improves with increase in training data size, as . Logistic regresssion being discriminative model, doesn't make any assumption about the data (unlike Bayesian Classifier). Hence, these models generalize well on testing data if it is trained on sufficient number of training data, and we can see this from the above plot (less testing error on larger training dataset). "
   ]
  },
  {
   "cell_type": "code",
   "execution_count": 54,
   "metadata": {},
   "outputs": [
    {
     "data": {
      "text/html": [
       "<table>\n",
       "<thead><tr><th></th><th scope=col>x1</th></tr></thead>\n",
       "<tbody>\n",
       "\t<tr><th scope=row>x2</th><td>-0.6453937</td></tr>\n",
       "</tbody>\n",
       "</table>\n"
      ],
      "text/latex": [
       "\\begin{tabular}{r|l}\n",
       "  & x1\\\\\n",
       "\\hline\n",
       "\tx2 & -0.6453937\\\\\n",
       "\\end{tabular}\n"
      ],
      "text/markdown": [
       "\n",
       "| <!--/--> | x1 | \n",
       "|---|\n",
       "| x2 | -0.6453937 | \n",
       "\n",
       "\n"
      ],
      "text/plain": [
       "   x1        \n",
       "x2 -0.6453937"
      ]
     },
     "metadata": {},
     "output_type": "display_data"
    }
   ],
   "source": [
    "cor(train_data['x2'], train_data['x1'])"
   ]
  },
  {
   "cell_type": "code",
   "execution_count": 59,
   "metadata": {},
   "outputs": [
    {
     "data": {
      "text/plain": [
       "\n",
       " -1   1 \n",
       "170 330 "
      ]
     },
     "metadata": {},
     "output_type": "display_data"
    }
   ],
   "source": [
    "table(train_data['y'])"
   ]
  }
 ],
 "metadata": {
  "kernelspec": {
   "display_name": "R",
   "language": "R",
   "name": "ir"
  },
  "language_info": {
   "codemirror_mode": "r",
   "file_extension": ".r",
   "mimetype": "text/x-r-source",
   "name": "R",
   "pygments_lexer": "r",
   "version": "3.5.1"
  }
 },
 "nbformat": 4,
 "nbformat_minor": 4
}
