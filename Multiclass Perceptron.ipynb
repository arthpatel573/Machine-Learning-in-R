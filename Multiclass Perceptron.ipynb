{
 "cells": [
  {
   "cell_type": "markdown",
   "metadata": {},
   "source": [
    "## Multiclass Perceptron"
   ]
  },
  {
   "cell_type": "markdown",
   "metadata": {},
   "source": [
    "#### Load libraries"
   ]
  },
  {
   "cell_type": "code",
   "execution_count": 2,
   "metadata": {},
   "outputs": [],
   "source": [
    "library(ggplot2) # plotting\n",
    "library(reshape2) # melt function\n",
    "library(repr) # setting options\n",
    "library(tidyr)"
   ]
  },
  {
   "cell_type": "markdown",
   "metadata": {},
   "source": [
    "**I. Load Datasets**"
   ]
  },
  {
   "cell_type": "code",
   "execution_count": 2,
   "metadata": {},
   "outputs": [],
   "source": [
    "# read data\n",
    "train_data <- read.csv('Data//1D_train.csv')\n",
    "test_data <- read.csv('Data//1D_test.csv')\n",
    "\n",
    "# number of features\n",
    "D <- 4\n",
    "\n",
    "train.len <- dim(train_data)[1]\n",
    "test.len <- dim(test_data)[1]\n",
    "\n",
    "# separate labels and features from data set\n",
    "train.index <- sample(1:train.len,train.len)\n",
    "train.data <- train_data[train.index,  1:D]\n",
    "train.label <- train_data[train.index, 'y']\n",
    "test.data <- test_data[, 1:D]\n",
    "test.label <- test_data[, 'y']"
   ]
  },
  {
   "cell_type": "markdown",
   "metadata": {},
   "source": [
    "**MLP Implementation**"
   ]
  },
  {
   "cell_type": "code",
   "execution_count": 3,
   "metadata": {},
   "outputs": [],
   "source": [
    "pred.class <- function(phi, W){\n",
    "    return (max.col(t(W %*% t(phi))))\n",
    "}"
   ]
  },
  {
   "cell_type": "code",
   "execution_count": 4,
   "metadata": {},
   "outputs": [],
   "source": [
    "## Basis function\n",
    "Phi <- as.matrix(cbind(1, train.data)) # add a column of 1 as phi_0\n",
    "T_train <- ifelse(train.label == 'C1',1,ifelse(train.label=='C2',2,3))\n",
    "T_test <- ifelse(test.label == 'C1',1,ifelse(test.label=='C2',2,3))\n",
    "\n",
    "test.data  <- as.matrix(cbind(1, test.data))\n",
    "\n",
    "# Initialization\n",
    "eta <- 0.01 #learning rate\n",
    "epsilon <- 0.001 # Stopping criterion\n",
    "tau.max <- 100# Maximum number of iterations\n",
    "\n",
    "# Initialise the weight vector randomly \n",
    "W  <- rbind(runif(ncol(Phi)),\n",
    "            runif(ncol(Phi)),\n",
    "            runif(ncol(Phi)))\n",
    "\n",
    "tau <- 1 # iteration counter \n",
    "terminate <- FALSE # termination status\n",
    "error_count  <- data.frame(error=0)"
   ]
  },
  {
   "cell_type": "code",
   "execution_count": 5,
   "metadata": {},
   "outputs": [],
   "source": [
    "test.error <- data.frame(matrix(ncol = 0, nrow = 0))"
   ]
  },
  {
   "cell_type": "code",
   "execution_count": 6,
   "metadata": {},
   "outputs": [],
   "source": [
    "# index to store error of every 5 batches\n",
    "t <- 1\n",
    "while(!terminate){ # while not converged do ...\n",
    "    # reshuffling train data and associated labels:\n",
    "    train.index <- sample(1:train.len, replace = FALSE)\n",
    "    train.set<- Phi[train.index,]\n",
    "    T <- T_train[train.index]\n",
    "\n",
    "    \n",
    "    for (i in 1:train.len){\n",
    "        # break loop when reaching max iteration\n",
    "        if (tau == tau.max) {break}\n",
    "           \n",
    "        # predict \n",
    "        T.pred  <- pred.class(train.set[i,,drop=F], W)\n",
    "        \n",
    "        # when prediciton is not equal to true label\n",
    "        if (T.pred != T[i]){\n",
    "            # reduce weights accordingly\n",
    "            if (T.pred == 1){\n",
    "                W[1,]  <- W[1,] - eta * train.set[i,,drop=F]\n",
    "            } else if (T.pred == 2){\n",
    "                W[2,]  <- W[2,] - eta * train.set[i,,drop=F]\n",
    "            } else if (T.pred == 3){\n",
    "                W[3,]  <- W[3,] - eta * train.set[i,,drop=F]\n",
    "            }\n",
    "            \n",
    "            # increase weights accordingly\n",
    "            if (T[i] == 1){\n",
    "                W[1,]  <-  W[1,] + eta * train.set[i,,drop=F]\n",
    "            } else if (T[i] == 2){\n",
    "                W[2,]  <-  W[2,] + eta * train.set[i,,drop=F]\n",
    "            } else if (T[i] == 3){\n",
    "                W[3,]  <-  W[3,] + eta * train.set[i,,drop=F]\n",
    "            }                                          \n",
    "        }   \n",
    "        # calculate training error\n",
    "        error_count[tau,\"eta = 0.01\"]  <-  sum(pred.class(train.set, W) != T)/train.len\n",
    "        \n",
    "        # make predictions every 5 training data points\n",
    "        # mini batch\n",
    "        if (i%%5==0) {\n",
    "            # error after every 5 batches updated\n",
    "            test.error[t,\"eta = 0.01\"]  <- sum(pred.class(test.data, W)!= T_test)/test.len\n",
    "            t <- t + 1\n",
    "        }\n",
    "        \n",
    "    # increase iteration counter    \n",
    "    tau  <- tau + 1\n",
    "    # decreasing eta value    \n",
    "    eta = eta * 0.99\n",
    "    # recalculate termination conditions\n",
    "    terminate <- tau >= tau.max \n",
    "    if (tau > 2) {\n",
    "        terminate <- abs(error_count[tau - 1,\"eta = 0.01\"] - error_count[tau - 2,\"eta = 0.01\"]) < epsilon\n",
    "    }\n",
    " \n",
    "}}\n",
    "\n",
    "# merge testing errors into placeholder\n",
    "test.error  <- cbind(data.frame(mini_batch=1:nrow(test.error))*5,test.error)"
   ]
  },
  {
   "cell_type": "markdown",
   "metadata": {},
   "source": [
    "### $\\eta= 0.09$"
   ]
  },
  {
   "cell_type": "code",
   "execution_count": 7,
   "metadata": {},
   "outputs": [],
   "source": [
    "## Basis function\n",
    "Phi <- as.matrix(cbind(1, train.data)) # add a column of 1 as phi_0\n",
    "\n",
    "# Initialization\n",
    "eta <- 0.01 #learning rate\n",
    "tau.max <- 100# Maximum number of iterations\n",
    "\n",
    "# Initialise the weight vector randomly \n",
    "W  <- rbind(runif(ncol(Phi)),\n",
    "            runif(ncol(Phi)),\n",
    "            runif(ncol(Phi)))\n",
    "\n",
    "tau <- 1 # iteration counter \n",
    "terminate <- FALSE # termination status\n",
    "error_count  <- data.frame(error=0)"
   ]
  },
  {
   "cell_type": "code",
   "execution_count": 8,
   "metadata": {},
   "outputs": [],
   "source": [
    "# index to store error of every 5 batches\n",
    "t <- 1\n",
    "while(!terminate){ # while not converged do ...\n",
    "    # reshuffling train data and associated labels:\n",
    "    train.index <- sample(1:train.len, replace = FALSE)\n",
    "    train.set<- Phi[train.index,]\n",
    "    T <- T_train[train.index]\n",
    "\n",
    "    for (i in 1:train.len){\n",
    "        # break loop when reaching max iteration\n",
    "        if (tau == tau.max) {break}\n",
    "           \n",
    "        # predict \n",
    "        T.pred  <- pred.class(train.set[i,,drop=F], W)\n",
    "        \n",
    "        # when prediciton is not equal to true label\n",
    "        if (T.pred != T[i]){\n",
    "            # reduce weights accordingly\n",
    "            if (T.pred == 1){\n",
    "                W[1,]  <- W[1,] - eta * train.set[i,,drop=F]\n",
    "            } else if (T.pred == 2){\n",
    "                W[2,]  <- W[2,] - eta * train.set[i,,drop=F]\n",
    "            } else if (T.pred == 3){\n",
    "                W[3,]  <- W[3,] - eta * train.set[i,,drop=F]\n",
    "            }\n",
    "            \n",
    "            # increase weights accordingly\n",
    "            if (T[i] == 1){\n",
    "                W[1,]  <-  W[1,] + eta * train.set[i,,drop=F]\n",
    "            } else if (T[i] == 2){\n",
    "                W[2,]  <-  W[2,] + eta * train.set[i,,drop=F]\n",
    "            } else if (T[i] == 3){\n",
    "                W[3,]  <-  W[3,] + eta * train.set[i,,drop=F]\n",
    "            }                                          \n",
    "        }   \n",
    "        # calculate training error\n",
    "        error_count[tau,\"eta = 0.09\"]  <-  sum(pred.class(train.set, W) != T)/train.len\n",
    "        \n",
    "        # make predictions every 5 training data points\n",
    "        # mini batch\n",
    "        if (i%%5==0) {\n",
    "            # error after every 5 batches updated\n",
    "            test.error[t,\"eta = 0.09\"]  <- sum(pred.class(test.data, W)!= T_test)/test.len\n",
    "            t <- t + 1\n",
    "        }\n",
    "        \n",
    "    # increase iteration counter    \n",
    "    tau  <- tau + 1\n",
    "    # decreasing eta value    \n",
    "    eta = eta * 0.99\n",
    "    # recalculate termination conditions\n",
    "    terminate <- tau >= tau.max \n",
    "    if (tau > 2) {\n",
    "        terminate <- abs(error_count[tau - 1,\"eta = 0.09\"] - error_count[tau - 2,\"eta = 0.09\"]) < epsilon\n",
    "    }\n",
    " \n",
    "}}"
   ]
  },
  {
   "cell_type": "markdown",
   "metadata": {},
   "source": [
    "**Lets Train two multiclass perceptron models on the provided training data by setting the learning rates η to .09 and .01 respectively. For each model, we will evaluate the error of the model on the test data, after processing every 5 training data points (mini-batch).**"
   ]
  },
  {
   "cell_type": "code",
   "execution_count": 119,
   "metadata": {},
   "outputs": [
    {
     "data": {},
     "metadata": {},
     "output_type": "display_data"
    },
    {
     "data": {
      "image/png": "[encoded data removed]",
      "text/plain": [
       "plot without title"
      ]
     },
     "metadata": {},
     "output_type": "display_data"
    }
   ],
   "source": [
    "# plot for different learning rates\n",
    "test.error %>%\n",
    "    gather(key,error, \"eta = 0.01\", \"eta = 0.09\") %>%\n",
    "    ggplot(aes(x=mini_batch, y=error, colour=key)) +\n",
    "    geom_line(size=1)"
   ]
  },
  {
   "cell_type": "markdown",
   "metadata": {},
   "source": [
    "From the above graph, we can see that the testing error fluctuates a lot when learning rate is smaller. When learning rate is lower, it takes more time to converge which is evident in the plot. When learning rate increases (eta=0.09), the graph converges faster and reaches local minima faster (compared with eta=0.01).\n",
    "\n",
    "We see from the above plot that after around 30 mini-batches, the error has reached minimum and remains almost constant in case of **learning rate = 0.09** while it fluctuates in case of **learning rate = 0.01** and does not become steady.\n",
    "\n",
    "Although this claims are not true for all data, as it is a hyper parameter which needs to be tuned with rigorous experiments on data."
   ]
  }
 ],
 "metadata": {
  "kernelspec": {
   "display_name": "R",
   "language": "R",
   "name": "ir"
  },
  "language_info": {
   "codemirror_mode": "r",
   "file_extension": ".r",
   "mimetype": "text/x-r-source",
   "name": "R",
   "pygments_lexer": "r",
   "version": "3.5.1"
  }
 },
 "nbformat": 4,
 "nbformat_minor": 4
}