{
 "cells": [
  {
   "cell_type": "markdown",
   "metadata": {},
   "source": [
    "### L-fold Cross Validation"
   ]
  },
  {
   "cell_type": "code",
   "execution_count": 1,
   "metadata": {},
   "outputs": [],
   "source": [
    "library(reshape2)\n",
    "library(ggplot2)"
   ]
  },
  {
   "cell_type": "markdown",
   "metadata": {},
   "source": [
    "#### Train data loading"
   ]
  },
  {
   "cell_type": "code",
   "execution_count": 2,
   "metadata": {},
   "outputs": [],
   "source": [
    "train_data <- read.csv('Data//1A_train.csv')\n",
    "train_data <- train_data[sample(1:nrow(train_data),nrow(train_data)),]\n",
    "train.data <- data.frame(x1 = train_data[, 'x1']) # grab all records, leave out the last column\n",
    "train.label <- train_data[, 'y']"
   ]
  },
  {
   "cell_type": "markdown",
   "metadata": {},
   "source": [
    "#### KNN Regressor"
   ]
  },
  {
   "cell_type": "code",
   "execution_count": 3,
   "metadata": {},
   "outputs": [],
   "source": [
    "# KNN function\n",
    "knn <- function(train.data, train.label, test.data, K=4, distance = 'euclidean'){\n",
    "    # count number of train samples\n",
    "    train.len <- nrow(train.data)\n",
    "\n",
    "    # count number of test samples\n",
    "    test.len <- nrow(test.data)\n",
    "    \n",
    "    # calculate distances between samples\n",
    "    dist <- as.matrix(dist(rbind(test.data, train.data), method= distance))[1:test.len, (test.len+1):(test.len+train.len)]\n",
    "    \n",
    "    # initialize testLabel\n",
    "    testLabel <- rep(0.0, test.len)\n",
    "    \n",
    "    # for each test sample...\n",
    "    for (i in 1:test.len){\n",
    "        # ...find its K nearest neighbours from training samples...\n",
    "        nn <- as.data.frame(sort(dist[i,], index.return = TRUE))[1:K,2]\n",
    "        \n",
    "        #... and calculate the predicted labels by averaging nearest neighbours values\n",
    "        testLabel[i]<- mean(train.label[nn])\n",
    "    }\n",
    "\n",
    "    # return the class labels as output\n",
    "    return (testLabel)\n",
    "}"
   ]
  },
  {
   "cell_type": "markdown",
   "metadata": {},
   "source": [
    "**I. L-Fold Cross Validation (CV) function for KNN regressor which takes the training data and their labels (continuous values), the number of folds, and returns errors for different folds of the training data.**"
   ]
  },
  {
   "cell_type": "code",
   "execution_count": 233,
   "metadata": {},
   "outputs": [],
   "source": [
    "# Randomly shuffle the data\n",
    "# train.data <- train.data[sample(nrow(train.data)),]"
   ]
  },
  {
   "cell_type": "code",
   "execution_count": 4,
   "metadata": {},
   "outputs": [],
   "source": [
    "cv <- function(train.data, train.label, K, numFold){\n",
    "    \n",
    "    # Create numFold equally size folds\n",
    "    folds <- cut(seq(1,nrow(train.data)),breaks=numFold,labels=FALSE)\n",
    "\n",
    "    folds_error <- rep(0.0, numFold)\n",
    "\n",
    "    # Perform L fold cross validation\n",
    "    for(i in 1:numFold){\n",
    "        # get test data indices\n",
    "        test.indices <- which(folds==i, arr.ind=TRUE)\n",
    "\n",
    "        # test fold data\n",
    "        testData <- data.frame(x1=train.data[test.indices, ])\n",
    "        testLabel <- train.label[test.indices]\n",
    "\n",
    "        # data for training \n",
    "        trainData <- data.frame(x1=train.data[-test.indices, ])\n",
    "        trainLabel <- train.label[-test.indices]\n",
    "        \n",
    "        # get prediction from knn regressor\n",
    "        pred_knn <- knn(trainData, trainLabel, testData, K=K)\n",
    "\n",
    "        # store sum of square error for each fold\n",
    "        folds_error[i] <- sum((pred_knn - testLabel)^2)    \n",
    "    }\n",
    "    \n",
    "    return (folds_error)\n",
    "}"
   ]
  },
  {
   "cell_type": "markdown",
   "metadata": {},
   "source": [
    "**Plot the average error numbers versus 1/K for K=1,..,15 in KNN regressor.**"
   ]
  },
  {
   "cell_type": "code",
   "execution_count": 5,
   "metadata": {},
   "outputs": [],
   "source": [
    "# calculate the train and test missclassification rates for K in 1:15\n",
    "sq_error <- data.frame('K'=1:15, 'Average_error'=rep(0,15))\n",
    "for (k in 1:15){\n",
    "    # store average of squared error for each fold\n",
    "    sq_error[k,'Average_error'] <- mean(cv(train.data, train.label, k, 10))\n",
    "}"
   ]
  },
  {
   "cell_type": "code",
   "execution_count": 7,
   "metadata": {},
   "outputs": [
    {
     "data": {},
     "metadata": {},
     "output_type": "display_data"
    },
    {
     "data": {
      "image/png": "[encoded data removed]",
      "text/plain": [
       "plot without title"
      ]
     },
     "metadata": {},
     "output_type": "display_data"
    }
   ],
   "source": [
    "# plot squared error for train and test data sets\n",
    "ggplot(data=sq_error, aes(x=(1/K), y=Average_error)) + geom_line() +\n",
    "       scale_color_discrete(guide = guide_legend(title = NULL)) + theme_minimal() +\n",
    "        geom_point()+\n",
    "       ggtitle(\"Sum of square Error\")"
   ]
  },
  {
   "cell_type": "markdown",
   "metadata": {},
   "source": [
    "From the above plot, we see that with the increase in value of `1/k`, training error on 10-fold cross validation decreases till 1/k = 0.5, which implies **k=2**, then this value increases. Hence, the optimal value of k is 2. "
   ]
  }
 ],
 "metadata": {
  "kernelspec": {
   "display_name": "R",
   "language": "R",
   "name": "ir"
  },
  "language_info": {
   "codemirror_mode": "r",
   "file_extension": ".r",
   "mimetype": "text/x-r-source",
   "name": "R",
   "pygments_lexer": "r",
   "version": "3.5.1"
  }
 },
 "nbformat": 4,
 "nbformat_minor": 4
}
