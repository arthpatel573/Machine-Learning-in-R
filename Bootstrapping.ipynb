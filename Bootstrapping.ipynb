{
 "cells": [
  {
   "cell_type": "markdown",
   "metadata": {},
   "source": [
    "## Bootstrapping"
   ]
  },
  {
   "cell_type": "markdown",
   "metadata": {},
   "source": [
    "### Load libraries"
   ]
  },
  {
   "cell_type": "code",
   "execution_count": 1,
   "metadata": {},
   "outputs": [],
   "source": [
    "library(ggplot2)\n",
    "library(reshape2) \n",
    "library(repr)"
   ]
  },
  {
   "cell_type": "code",
   "execution_count": 2,
   "metadata": {},
   "outputs": [],
   "source": [
    "# define a function that generates sample indixes based on bootstrap technique\n",
    "boot <- function (original.size=100, sample.size=original.size, times=100){\n",
    "    indx <- matrix(nrow=times, ncol=sample.size)\n",
    "    for (t in 1:times){\n",
    "        indx[t, ] <- sample(x=original.size, size=sample.size, replace = TRUE)\n",
    "    }\n",
    "    return(indx)\n",
    "}"
   ]
  },
  {
   "cell_type": "markdown",
   "metadata": {},
   "source": [
    "#### KNN Regressor"
   ]
  },
  {
   "cell_type": "code",
   "execution_count": 3,
   "metadata": {},
   "outputs": [],
   "source": [
    "# KNN function (distance should be one of euclidean, maximum, manhattan, canberra, binary or minkowski)\n",
    "knn <- function(train.data, train.label, test.data, K=3, distance = 'euclidean'){\n",
    "    train.len <- nrow(train.data)\n",
    "    test.len <- nrow(test.data)\n",
    "    dist <- as.matrix(dist(rbind(test.data, train.data), method= distance))[1:test.len, (test.len+1):(test.len+train.len)]\n",
    "    \n",
    "    testLabel <- rep(0.0, test.len)\n",
    "    for (i in 1:test.len){\n",
    "        nn <- as.data.frame(sort(dist[i,], index.return = TRUE))[1:K,2]\n",
    "        testLabel[i]<- (mean(train.label[nn]))\n",
    "    }\n",
    "    return (testLabel)\n",
    "}"
   ]
  },
  {
   "cell_type": "markdown",
   "metadata": {},
   "source": [
    "**Apply your bootstrapping for KNN regression with times = 50 (the number of subsets), size = 60 (the size of each subset), and change K=1,.., 15 (the neighbourhood size).**"
   ]
  },
  {
   "cell_type": "markdown",
   "metadata": {},
   "source": [
    "#### Load train test data"
   ]
  },
  {
   "cell_type": "code",
   "execution_count": 4,
   "metadata": {},
   "outputs": [],
   "source": [
    "#read data from csv file\n",
    "train_data <- read.csv('Data//1B_train.csv')\n",
    "test_data <- read.csv('Data//1B_test.csv')\n",
    "\n",
    "# training data and labels\n",
    "train.data <- train_data[, -5] # grab all records, leave out the last column\n",
    "train.label <- train_data[, 5]\n",
    "\n",
    "# testing data and labels\n",
    "test.data <- test_data[, -5] # grab all records, leave out last column\n",
    "test.label <- test_data[, 5]"
   ]
  },
  {
   "cell_type": "code",
   "execution_count": 5,
   "metadata": {},
   "outputs": [],
   "source": [
    "K <- 15 # Maximum K for KNN \n",
    "L <- 50 # number of datasets\n",
    "N <- 60 # size of datasets\n",
    "\n",
    "# generate bootstrap indices:\n",
    "boot.indx <- boot(nrow(train.data), N, L)\n",
    "\n",
    "# a dataframe to track the error metric\n",
    "sq_error <- data.frame('K'=1:K, 'L'=1:L, 'test'=rep(0,L*K))\n",
    "\n",
    "## for every k values:\n",
    "for (k in 1: K){\n",
    "    \n",
    "    ### for every dataset sizes:\n",
    "    for (l in 1:L){\n",
    "        \n",
    "        #### calculate iteration index i\n",
    "        i <- (k-1)*L+l\n",
    "        \n",
    "        #### save sample indices that were selected by bootstrap\n",
    "        indx <- boot.indx[l,]\n",
    "        \n",
    "        #### save the value of k and l\n",
    "        sq_error[i,'K'] <- k\n",
    "        sq_error[i,'L'] <- l\n",
    "        \n",
    "        #### calculate and record the train and test average sum of square error rates\n",
    "        sq_error[i,'test'] <-  sum((knn(train.data[indx,], train.label[indx], test.data, K=k) - test.label)^2)/nrow(test.data)\n",
    "    } \n",
    "}"
   ]
  },
  {
   "cell_type": "markdown",
   "metadata": {},
   "source": [
    "#### Boxplot where the x-axis is K, and the y-axis is the average test error (and the uncertainty around it) corresponding to each K"
   ]
  },
  {
   "cell_type": "code",
   "execution_count": 6,
   "metadata": {},
   "outputs": [
    {
     "data": {
      "image/png": "[encoded data removed]",
      "text/plain": [
       "Plot with title \"Average Sum of square Error vs. K\""
      ]
     },
     "metadata": {},
     "output_type": "display_data"
    }
   ],
   "source": [
    "# Box plot for average error\n",
    "boxplot(test~K, \n",
    "        data=sq_error, \n",
    "        main=\"Average Sum of square Error vs. K\", \n",
    "        xlab=\"K\", \n",
    "        ylab=\"Average error\",\n",
    "        col=\"#add8e6\")"
   ]
  },
  {
   "cell_type": "markdown",
   "metadata": {},
   "source": [
    "We can see from the plot that test error decreases till k=2 where it is minimum then it increases with the increase in value of K. Also, the uncertainity around the average error increases with the increase in value of K."
   ]
  },
  {
   "cell_type": "markdown",
   "metadata": {},
   "source": [
    "**Apply your bootstrapping for KNN regression with K=10(the neighbourhood size), size = 40 (the size of each subset), and change times = 10, 20, 30,.., 200 (the number of subsets).**"
   ]
  },
  {
   "cell_type": "code",
   "execution_count": 7,
   "metadata": {},
   "outputs": [],
   "source": [
    "x <- data.frame('times'=numeric(), 'L'=numeric(), 'test'=numeric())"
   ]
  },
  {
   "cell_type": "code",
   "execution_count": 8,
   "metadata": {},
   "outputs": [],
   "source": [
    "time <- c(10,20)\n",
    "\n",
    "for (i in time) {\n",
    "    x <- rbind(x, data.frame('times'=i, 'L'=seq(1:i), 'test'=rep(0,i)))\n",
    "}"
   ]
  },
  {
   "cell_type": "code",
   "execution_count": 9,
   "metadata": {},
   "outputs": [],
   "source": [
    "x[which(x$times == 10 & x$L==2),'test'] = 5"
   ]
  },
  {
   "cell_type": "code",
   "execution_count": 10,
   "metadata": {},
   "outputs": [],
   "source": [
    "K <- 10 #  Neighbours size K for KNN \n",
    "N <- 40 # size of datasets\n",
    "times <- (1:20)*10 # number of datasets\n",
    "\n",
    "# a dataframe to track the error metric\n",
    "sq_error <- data.frame('times'=numeric(), 'L'=numeric(), 'test'=numeric())\n",
    "\n",
    "for (i in times) {\n",
    "    sq_error <- rbind(sq_error, data.frame('times'=i, 'L'=seq(1:i), 'test'=rep(0,i)))\n",
    "}\n",
    "\n",
    "for (L in times){\n",
    "    # generate bootstrap indices:\n",
    "    boot.indx <- boot(nrow(train.data), N, L)\n",
    "    \n",
    "    temp_error <- rep(0,L)\n",
    "    \n",
    "    ### for every subset:\n",
    "    for (l in 1:L){\n",
    "\n",
    "        #### save sample indices that were selected by bootstrap\n",
    "        indx <- boot.indx[l,]\n",
    "\n",
    "        test.preds <- knn(train.data[indx,], train.label[indx], test.data, K=K)\n",
    "        \n",
    "        #### calculate and record the train and test average sum of square error rates\n",
    "        sq_error[which(sq_error$times == L & sq_error$L==l),'test'] <-  sum((test.preds - test.label)^2)/nrow(test.data)\n",
    "    }\n",
    "}"
   ]
  },
  {
   "cell_type": "code",
   "execution_count": 11,
   "metadata": {},
   "outputs": [],
   "source": [
    "# Calculating average error\n",
    "sq_error[,'test'] <- sq_error[,'test']/sq_error[,'times']"
   ]
  },
  {
   "cell_type": "markdown",
   "metadata": {},
   "source": [
    "#### Boxplot of average errors vs times"
   ]
  },
  {
   "cell_type": "code",
   "execution_count": 12,
   "metadata": {},
   "outputs": [
    {
     "data": {
      "image/png": "[encoded data removed]",
      "text/plain": [
       "Plot with title \"Average Sum of square Error vs. times\""
      ]
     },
     "metadata": {},
     "output_type": "display_data"
    }
   ],
   "source": [
    "boxplot(test~times, \n",
    "        data=sq_error, \n",
    "        main=\"Average Sum of square Error vs. times\", \n",
    "        xlab=\"times\", \n",
    "        ylab=\"Average error\",\n",
    "        col=\"salmon\")"
   ]
  },
  {
   "cell_type": "markdown",
   "metadata": {},
   "source": [
    "As the number of datasets increases for the fixed value of k=10 and dataset_size=40, we see that average test error decreases. Also, uncertainity in the error decreases with the increase in number of boostrapped subsets.\n"
   ]
  }
 ],
 "metadata": {
  "kernelspec": {
   "display_name": "R",
   "language": "R",
   "name": "ir"
  },
  "language_info": {
   "codemirror_mode": "r",
   "file_extension": ".r",
   "mimetype": "text/x-r-source",
   "name": "R",
   "pygments_lexer": "r",
   "version": "3.5.1"
  }
 },
 "nbformat": 4,
 "nbformat_minor": 4
}
