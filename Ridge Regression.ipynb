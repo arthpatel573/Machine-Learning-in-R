{
 "cells": [
  {
   "cell_type": "markdown",
   "metadata": {},
   "source": [
    "# Ridge Regression\n",
    "\n",
    "**I. Weight update steps of stochastic gradient descent (SGD) for linear regression with L2 regularisation norm.**"
   ]
  },
  {
   "cell_type": "markdown",
   "metadata": {},
   "source": [
    "For loss function with L2 regularisation norm, the error function can be written as,\n",
    "\n",
    "\\begin{align}\n",
    "\\large{E(w) := \\sum_{n} E_{n}(w) +\\frac{\\lambda}{2}{w^2} \\small{\\quad\\textrm{ where }\\quad} \\large{E_{n}(w) := {\\frac{1}{2}}(t_{n} - w^T\\phi(x_{n}))^2}}\n",
    "\\end{align}\n",
    "\n",
    "so the gradient can be computed as:\n",
    "\n",
    "\\begin{align*}\n",
    "\\large{\\nabla({E_{n}}(w) + \\frac{\\lambda}{2}{w^2}) := \\nabla({E_{n}}(w) + \\nabla(\\frac{\\lambda}{2}{w^2})} \\\\\n",
    "\\large{:= -\\phi(x_{n})(t_{n} - w^T\\phi(x_{n})) +{w}{\\lambda}}\n",
    "\\end{align*}\n",
    "\n",
    "After presentation of the $n$th training datapoint, the stochastic gradient descent algorithm updates the parameter vector $w$ using,\n",
    "\n",
    "\\begin{align}\n",
    "\\large{\\textbf{w}^{(\\tau)} = \\textbf{w}^{(\\tau-1)} - {\\eta}^{(\\tau)}{\\nabla} (E_{n}(\\textbf{w}^{(\\tau)})+ \\frac{\\lambda}{2}{\\textbf{|w|}^2})}\n",
    "\\end{align}\n",
    "\n",
    "where $\\tau$ denotes the iteration number, and ${\\eta}^{(\\tau)}$is a learning rate parameter.\n",
    "\n",
    "So the stochastic gradient learning gradient is as follows:\n",
    "\n",
    "- Initialize the parameter $\\large{\\textbf{w}}$ to some starting vector $\\large{\\textbf{w}^{(0)}}$ and $\\large{\\tau = 1}$\n",
    "- While stopping condition is not met do:\n",
    "    - randomly select a datapoint $(x_{n}, y_{n})$ from training dataset\n",
    "    - $\\large{\\textbf{w}^{(\\tau)} := \\textbf{w}^{(\\tau-1)} - {\\eta}^{(\\tau)}{\\nabla} (E_{n}(\\textbf{w}^{(\\tau)})+ \\frac{\\lambda}{2}{\\textbf{|w|}^2})} \\\\\n",
    "    \\implies \\large{\\textbf{w}^{(\\tau)} := \\textbf{w}^{(\\tau-1)} - {\\eta}^{(\\tau)}({\\nabla}E_{n}(\\textbf{w}^{(\\tau)})+ {\\lambda}{\\textbf{|w|}})}$\n",
    "    - $\\large{\\tau = \\tau + 1}$\n",
    "\n",
    "\n",
    "$\\large{\\tau}$ here refers to visiting a single training datapoint in Stochastic GD"
   ]
  },
  {
   "cell_type": "code",
   "execution_count": 78,
   "metadata": {},
   "outputs": [],
   "source": [
    "# load libraries\n",
    "library(ggplot2) # for plots\n",
    "library(reshape2) # for data reshaping\n",
    "library(repr) \n",
    "library(tidyr)"
   ]
  },
  {
   "cell_type": "code",
   "execution_count": 79,
   "metadata": {},
   "outputs": [],
   "source": [
    "# reading the data\n",
    "read_data <- function(fname, sc) {\n",
    "   data <- read.csv(file=fname,head=TRUE,sep=\",\")\n",
    "   nr = dim(data)[1]\n",
    "   nc = dim(data)[2]\n",
    "   x = data[1:nr,1:(nc-1)]\n",
    "   y = data[1:nr,nc]\n",
    "   if (isTRUE(sc)) {\n",
    "      x = scale(x)\n",
    "      y = scale(y)\n",
    "   }\n",
    "   return (list(\"x\" = x, \"y\" = y))\n",
    "}"
   ]
  },
  {
   "cell_type": "code",
   "execution_count": 80,
   "metadata": {},
   "outputs": [],
   "source": [
    "# auxiliary function to calculate labels based on the estimated coefficients\n",
    "\n",
    "# auxiliary function to calculate labels based on the estimated coefficients\n",
    "predict_func <- function(Phi, w){\n",
    "    return(Phi%*%w)\n",
    "} \n",
    "\n",
    "# auxiliary function to calculate the objective function for the training\n",
    "train_obj_func <- function (Phi, w, label, lambda){\n",
    "    # the L2 regulariser is already included in the objective function for training \n",
    "    return(.5 * (mean((predict_func(Phi, w) - label)^2)) + .5 * lambda * w %*% w)\n",
    "}\n",
    "\n",
    "# auxiliary function to compute the error of the model\n",
    "get_errors <- function(train_data, test_data, W) {\n",
    "    n_weights = dim(W)[1]\n",
    "    errors = matrix(,nrow=n_weights, ncol=2)\n",
    "    for (tau in 1:n_weights) {\n",
    "        errors[tau,1] = train_obj_func(train_data$x, W[tau,],train_data$y, 0)\n",
    "        errors[tau,2] = train_obj_func(test_data$x, W[tau,],test_data$y, 0)\n",
    "    }\n",
    "    return(errors)\n",
    "}\n"
   ]
  },
  {
   "cell_type": "code",
   "execution_count": 81,
   "metadata": {},
   "outputs": [],
   "source": [
    "sgd_train <- function(train_x, train_y, lambda, eta, epsilon, max_epoch) {\n",
    "   set.seed(123)\n",
    "    \n",
    "   train_len = dim(train_x)[1]\n",
    "   tau_max = max_epoch * train_len\n",
    "\n",
    "   W <- matrix(,nrow=tau_max, ncol=ncol(train_x)) \n",
    "   W[1,] <- runif(ncol(train_x))\n",
    "  \n",
    "   tau = 1 # counter \n",
    "   obj_func_val <-matrix(,nrow=tau_max, ncol=1) \n",
    "   obj_func_val[tau,1] = train_obj_func(train_x, W[tau,],train_y, lambda)\n",
    "\n",
    "   while (tau <= tau_max){\n",
    "\n",
    "       # check termination criteria\n",
    "       if (obj_func_val[tau,1]<=epsilon) {break}\n",
    " \n",
    "       # shuffle data:\n",
    "       train_index <- sample(1:train_len, train_len, replace = FALSE)\n",
    "    \n",
    "       # loop over each datapoint\n",
    "       for (i in train_index) {\n",
    "           # increment the counter\n",
    "           tau <- tau + 1\n",
    "           if (tau > tau_max) {break}\n",
    "\n",
    "           # make the weight update\n",
    "           y_pred <- predict_func(train_x[i,], W[tau-1,])\n",
    "           W[tau,] <- sgd_update_weight(W[tau-1,], train_x[i,], train_y[i], y_pred, lambda, eta)\n",
    "\n",
    "           # keep track of the objective funtion\n",
    "           obj_func_val[tau,1] = train_obj_func(train_x, W[tau,],train_y, lambda)\n",
    "       }\n",
    "   }\n",
    "   # final value for training objective function and weights\n",
    "   return(list('vals'=obj_func_val,'W'=W))\n",
    "}\n",
    "\n",
    "# update the weight vector\n",
    "sgd_update_weight <- function(W_prev, x, y_true, y_pred, lambda, eta) {\n",
    "   # add regularisation\n",
    "   grad = -as.vector(y_true-y_pred) * x + lambda * W_prev\n",
    "   # update weight\n",
    "   updated_weight <- W_prev - eta * grad\n",
    "    return (updated_weight)\n",
    "}\n"
   ]
  },
  {
   "cell_type": "markdown",
   "metadata": {},
   "source": [
    "Load training and testing data"
   ]
  },
  {
   "cell_type": "code",
   "execution_count": 82,
   "metadata": {},
   "outputs": [],
   "source": [
    "# read data\n",
    "train <- read_data('Data//1C_train.csv',TRUE)\n",
    "test <- read_data('Data//1C_test.csv',TRUE)"
   ]
  },
  {
   "cell_type": "code",
   "execution_count": 83,
   "metadata": {},
   "outputs": [],
   "source": [
    "# Initialisation\n",
    "\n",
    "# maximum number of iteration\n",
    "max_epoch <- 20 \n",
    "# a threshold on the cost \n",
    "epsilon <- .001 \n",
    "# learning rate\n",
    "eta <- .01\n",
    "#lambda\n",
    "lambdas <- (0:25)*0.4"
   ]
  },
  {
   "cell_type": "markdown",
   "metadata": {},
   "source": [
    "**For each lambda in {0, 0.4, 0.8, …, 10}, lets build a regression model and compute the training and testing errors.**"
   ]
  },
  {
   "cell_type": "code",
   "execution_count": 84,
   "metadata": {},
   "outputs": [],
   "source": [
    "# create a table error\n",
    "error.table <- data.frame(matrix(ncol = 3, nrow = 0))\n",
    "\n",
    "for (l in lambdas) { #loop over each value of lambdas\n",
    "    # training with given value of lambdas\n",
    "    fit <- sgd_train(train$x, train$y, lambda = l, eta = 0.01, epsilon = 0.001, max_epoch= 20)    \n",
    "    # Create dataframe to store error value\n",
    "    test_error <- data.frame(0)\n",
    "    \n",
    "    # transform value of lambdas into log lambda\n",
    "    test_error[\"log_lambdas\"] = log(l)\n",
    "    \n",
    "    # get value of the last epoch\n",
    "    test_error[\"train error\"] = tail(get_errors(train, test, fit$W),1)[1]\n",
    "    test_error[\"test error\"] = tail(get_errors(train, test, fit$W),1)[2]\n",
    "    \n",
    "    # adding error to table error\n",
    "    error.table <- rbind(error.table, test_error)\n",
    "}"
   ]
  },
  {
   "cell_type": "code",
   "execution_count": 85,
   "metadata": {},
   "outputs": [
    {
     "data": {},
     "metadata": {},
     "output_type": "display_data"
    },
    {
     "data": {
      "image/png": "[encoded data removed]",
      "text/plain": [
       "plot without title"
      ]
     },
     "metadata": {},
     "output_type": "display_data"
    }
   ],
   "source": [
    "mintest = min(error.table[\"test error\"]) #spotting the lowest error\n",
    "# plot errors\n",
    "error.table %>%\n",
    "    gather(key, error ,\"train error\",\"test error\") %>%\n",
    "    ggplot(aes(x=log_lambdas, y = error, colour = key)) +\n",
    "    geom_point() +\n",
    "    geom_line() +\n",
    "    geom_vline(xintercept = error.table[which(error.table[\"test error\"] == mintest),\"log_lambdas\"], linetype=\"dashed\", color = \"blue\") +\n",
    "    annotate(\"text\", x = error.table[which(error.table[\"test error\"] == mintest),\"log_lambdas\"]+0.1, y = mintest-0.01, label = exp(error.table[which(error.table[\"test error\"] == mintest),\"log_lambdas\"]))\n",
    "    "
   ]
  },
  {
   "cell_type": "markdown",
   "metadata": {},
   "source": [
    "The best value of lambda is **1.6**\n",
    "\n",
    "Model with higher complexity tend to be overfitting, which we can be seen when lambda=0 due to high test error and relatively low train error. As lambda increases, the model complexity decreases and we see increase in training error. This leads to making model less complex. So for larger value of lambda the model underfits (high test and high train error).\n",
    "\n",
    "The testing error decreases to some point and then increases with inrease in value of lambda. Here when **$\\lambda=1.6$** the model has least testing error hence its the best value of lambda as it is said to have generalized better at this value of $\\lambda$."
   ]
  }
 ],
 "metadata": {
  "kernelspec": {
   "display_name": "R",
   "language": "R",
   "name": "ir"
  },
  "language_info": {
   "codemirror_mode": "r",
   "file_extension": ".r",
   "mimetype": "text/x-r-source",
   "name": "R",
   "pygments_lexer": "r",
   "version": "3.5.1"
  }
 },
 "nbformat": 4,
 "nbformat_minor": 4
}
